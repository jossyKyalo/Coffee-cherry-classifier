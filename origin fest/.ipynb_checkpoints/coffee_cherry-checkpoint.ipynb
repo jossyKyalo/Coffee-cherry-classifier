{
 "cells": [
  {
   "cell_type": "code",
   "execution_count": 71,
   "id": "a11a024b",
   "metadata": {},
   "outputs": [],
   "source": [
    "import os\n",
    "import cv2\n",
    "import numpy as np\n",
    "import tensorflow as tf\n",
    "from tensorflow.keras.models import Sequential\n",
    "from tensorflow.keras.layers import Conv2D, MaxPooling2D, Flatten, Dense\n",
    "from tensorflow.keras.preprocessing.image import ImageDataGenerator\n",
    "from sklearn.model_selection import train_test_split"
   ]
  },
  {
   "cell_type": "code",
   "execution_count": 72,
   "id": "59d6411f",
   "metadata": {},
   "outputs": [],
   "source": [
    "data_dir = 'color'"
   ]
  },
  {
   "cell_type": "code",
   "execution_count": 79,
   "id": "13e52bb1",
   "metadata": {},
   "outputs": [],
   "source": [
    "classes = ['ripe', 'unripe', 'defectiveDiseasedOverripe']\n",
    "class_indices = {class_name: index for index, class_name in enumerate(classes)}"
   ]
  },
  {
   "cell_type": "code",
   "execution_count": 83,
   "id": "aaf5996f",
   "metadata": {},
   "outputs": [
    {
     "name": "stdout",
     "output_type": "stream",
     "text": [
      "Warning: Could not read image color\\unripe\\21.avif. Skipping this file.\n",
      "Warning: Could not read image color\\unripe\\22.avif. Skipping this file.\n",
      "Warning: Could not read image color\\unripe\\28.avif. Skipping this file.\n"
     ]
    }
   ],
   "source": [
    "images = []\n",
    "labels = []\n",
    "for class_name in classes:\n",
    "    class_dir = os.path.join(data_dir, class_name)\n",
    "    for filename in os.listdir(class_dir):\n",
    "        img_path = os.path.join(class_dir, filename)\n",
    "        img = cv2.imread(img_path)\n",
    "        \n",
    "        # Check if the image was loaded successfully\n",
    "        if img is None:\n",
    "            print(f\"Warning: Could not read image {img_path}. Skipping this file.\")\n",
    "            continue\n",
    "        \n",
    "        img = cv2.resize(img, (64, 64))\n",
    "        img = img / 255.0\n",
    "        images.append(img)\n",
    "        labels.append(class_indices[class_name])"
   ]
  },
  {
   "cell_type": "code",
   "execution_count": 84,
   "id": "5af06b51",
   "metadata": {},
   "outputs": [],
   "source": [
    "labels = tf.keras.utils.to_categorical(labels, num_classes=len(classes))\n"
   ]
  },
  {
   "cell_type": "code",
   "execution_count": 85,
   "id": "84bd29dd",
   "metadata": {},
   "outputs": [],
   "source": [
    "train_images, test_images, train_labels, test_labels = train_test_split(images, labels, test_size=0.2, random_state=42)\n"
   ]
  },
  {
   "cell_type": "code",
   "execution_count": 86,
   "id": "30ef2a62",
   "metadata": {},
   "outputs": [],
   "source": [
    "model = Sequential()\n",
    "model.add(Conv2D(32, (3, 3), input_shape=(64, 64, 3), activation='relu'))\n",
    "model.add(MaxPooling2D(pool_size=(2, 2)))\n",
    "model.add(Flatten())\n",
    "model.add(Dense(units=128, activation='relu'))\n",
    "model.add(Dense(units=len(classes), activation='softmax'))"
   ]
  },
  {
   "cell_type": "code",
   "execution_count": 87,
   "id": "c1d30193",
   "metadata": {},
   "outputs": [],
   "source": [
    "model.compile(optimizer='adam', loss='categorical_crossentropy', metrics=['accuracy'])\n"
   ]
  },
  {
   "cell_type": "code",
   "execution_count": 88,
   "id": "12517f63",
   "metadata": {},
   "outputs": [
    {
     "name": "stdout",
     "output_type": "stream",
     "text": [
      "Epoch 1/25\n",
      "4/4 [==============================] - 1s 170ms/step - loss: 1.5958 - accuracy: 0.4144 - val_loss: 1.4657 - val_accuracy: 0.6071\n",
      "Epoch 2/25\n",
      "4/4 [==============================] - 0s 71ms/step - loss: 1.1488 - accuracy: 0.6216 - val_loss: 0.6357 - val_accuracy: 0.7500\n",
      "Epoch 3/25\n",
      "4/4 [==============================] - 0s 78ms/step - loss: 0.5766 - accuracy: 0.6757 - val_loss: 0.6439 - val_accuracy: 0.6429\n",
      "Epoch 4/25\n",
      "4/4 [==============================] - 0s 78ms/step - loss: 0.3594 - accuracy: 0.8739 - val_loss: 0.4896 - val_accuracy: 0.7143\n",
      "Epoch 5/25\n",
      "4/4 [==============================] - 0s 100ms/step - loss: 0.3254 - accuracy: 0.8919 - val_loss: 0.3575 - val_accuracy: 0.8929\n",
      "Epoch 6/25\n",
      "4/4 [==============================] - 0s 94ms/step - loss: 0.1827 - accuracy: 0.9550 - val_loss: 0.3343 - val_accuracy: 0.8214\n",
      "Epoch 7/25\n",
      "4/4 [==============================] - 0s 82ms/step - loss: 0.1355 - accuracy: 0.9820 - val_loss: 0.3176 - val_accuracy: 0.8571\n",
      "Epoch 8/25\n",
      "4/4 [==============================] - 0s 76ms/step - loss: 0.0887 - accuracy: 0.9910 - val_loss: 0.2533 - val_accuracy: 0.8571\n",
      "Epoch 9/25\n",
      "4/4 [==============================] - 0s 78ms/step - loss: 0.0631 - accuracy: 1.0000 - val_loss: 0.2543 - val_accuracy: 0.8571\n",
      "Epoch 10/25\n",
      "4/4 [==============================] - 0s 75ms/step - loss: 0.0330 - accuracy: 1.0000 - val_loss: 0.2849 - val_accuracy: 0.8929\n",
      "Epoch 11/25\n",
      "4/4 [==============================] - 0s 72ms/step - loss: 0.0272 - accuracy: 1.0000 - val_loss: 0.2816 - val_accuracy: 0.8571\n",
      "Epoch 12/25\n",
      "4/4 [==============================] - 0s 74ms/step - loss: 0.0146 - accuracy: 1.0000 - val_loss: 0.2753 - val_accuracy: 0.8571\n",
      "Epoch 13/25\n",
      "4/4 [==============================] - 0s 85ms/step - loss: 0.0095 - accuracy: 1.0000 - val_loss: 0.2750 - val_accuracy: 0.8571\n",
      "Epoch 14/25\n",
      "4/4 [==============================] - 0s 87ms/step - loss: 0.0064 - accuracy: 1.0000 - val_loss: 0.2810 - val_accuracy: 0.8571\n",
      "Epoch 15/25\n",
      "4/4 [==============================] - 0s 79ms/step - loss: 0.0048 - accuracy: 1.0000 - val_loss: 0.2796 - val_accuracy: 0.8571\n",
      "Epoch 16/25\n",
      "4/4 [==============================] - 0s 84ms/step - loss: 0.0035 - accuracy: 1.0000 - val_loss: 0.2754 - val_accuracy: 0.8571\n",
      "Epoch 17/25\n",
      "4/4 [==============================] - 0s 76ms/step - loss: 0.0027 - accuracy: 1.0000 - val_loss: 0.2812 - val_accuracy: 0.8929\n",
      "Epoch 18/25\n",
      "4/4 [==============================] - 0s 86ms/step - loss: 0.0022 - accuracy: 1.0000 - val_loss: 0.2840 - val_accuracy: 0.8929\n",
      "Epoch 19/25\n",
      "4/4 [==============================] - 0s 86ms/step - loss: 0.0018 - accuracy: 1.0000 - val_loss: 0.2878 - val_accuracy: 0.8571\n",
      "Epoch 20/25\n",
      "4/4 [==============================] - 0s 79ms/step - loss: 0.0015 - accuracy: 1.0000 - val_loss: 0.2948 - val_accuracy: 0.8571\n",
      "Epoch 21/25\n",
      "4/4 [==============================] - 0s 77ms/step - loss: 0.0014 - accuracy: 1.0000 - val_loss: 0.2977 - val_accuracy: 0.8571\n",
      "Epoch 22/25\n",
      "4/4 [==============================] - 0s 75ms/step - loss: 0.0012 - accuracy: 1.0000 - val_loss: 0.2969 - val_accuracy: 0.8571\n",
      "Epoch 23/25\n",
      "4/4 [==============================] - 0s 81ms/step - loss: 0.0010 - accuracy: 1.0000 - val_loss: 0.2978 - val_accuracy: 0.8929\n",
      "Epoch 24/25\n",
      "4/4 [==============================] - 0s 98ms/step - loss: 9.4388e-04 - accuracy: 1.0000 - val_loss: 0.3001 - val_accuracy: 0.8929\n",
      "Epoch 25/25\n",
      "4/4 [==============================] - 0s 90ms/step - loss: 8.7321e-04 - accuracy: 1.0000 - val_loss: 0.3020 - val_accuracy: 0.8929\n"
     ]
    },
    {
     "data": {
      "text/plain": [
       "<tensorflow.python.keras.callbacks.History at 0x13cb8ff1d00>"
      ]
     },
     "execution_count": 88,
     "metadata": {},
     "output_type": "execute_result"
    }
   ],
   "source": [
    "model.fit(np.array(train_images), np.array(train_labels), epochs=25, validation_data=(np.array(test_images), np.array(test_labels)))"
   ]
  },
  {
   "cell_type": "code",
   "execution_count": 89,
   "id": "7cbb3dd1",
   "metadata": {},
   "outputs": [],
   "source": [
    "model.save('coffee_cherry_classifier.h5')"
   ]
  },
  {
   "cell_type": "code",
   "execution_count": null,
   "id": "66ca2be4",
   "metadata": {},
   "outputs": [],
   "source": []
  }
 ],
 "metadata": {
  "kernelspec": {
   "display_name": "Python 3",
   "language": "python",
   "name": "python3"
  },
  "language_info": {
   "codemirror_mode": {
    "name": "ipython",
    "version": 3
   },
   "file_extension": ".py",
   "mimetype": "text/x-python",
   "name": "python",
   "nbconvert_exporter": "python",
   "pygments_lexer": "ipython3",
   "version": "3.8.8"
  }
 },
 "nbformat": 4,
 "nbformat_minor": 5
}

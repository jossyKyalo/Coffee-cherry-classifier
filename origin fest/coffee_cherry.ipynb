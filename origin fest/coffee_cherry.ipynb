{
 "cells": [
  {
   "cell_type": "code",
   "execution_count": 71,
   "id": "a11a024b",
   "metadata": {},
   "outputs": [],
   "source": [
    "import os\n",
    "import cv2\n",
    "import numpy as np\n",
    "import tensorflow as tf\n",
    "from tensorflow.keras.models import Sequential\n",
    "from tensorflow.keras.layers import Conv2D, MaxPooling2D, Flatten, Dense\n",
    "from tensorflow.keras.preprocessing.image import ImageDataGenerator\n",
    "from sklearn.model_selection import train_test_split"
   ]
  },
  {
   "cell_type": "code",
   "execution_count": 72,
   "id": "59d6411f",
   "metadata": {},
   "outputs": [],
   "source": [
    "data_dir = 'color'"
   ]
  },
  {
   "cell_type": "code",
   "execution_count": 79,
   "id": "13e52bb1",
   "metadata": {},
   "outputs": [],
   "source": [
    "classes = ['ripe', 'unripe', 'defectiveDiseasedOverripe']\n",
    "class_indices = {class_name: index for index, class_name in enumerate(classes)}"
   ]
  },
  {
   "cell_type": "code",
   "execution_count": 83,
   "id": "aaf5996f",
   "metadata": {},
   "outputs": [
    {
     "name": "stdout",
     "output_type": "stream",
     "text": [
      "Warning: Could not read image color\\unripe\\21.avif. Skipping this file.\n",
      "Warning: Could not read image color\\unripe\\22.avif. Skipping this file.\n",
      "Warning: Could not read image color\\unripe\\28.avif. Skipping this file.\n"
     ]
    }
   ],
   "source": [
    "images = []\n",
    "labels = []\n",
    "for class_name in classes:\n",
    "    class_dir = os.path.join(data_dir, class_name)\n",
    "    for filename in os.listdir(class_dir):\n",
    "        img_path = os.path.join(class_dir, filename)\n",
    "        img = cv2.imread(img_path)\n",
    "        \n",
    "        # Check if the image was loaded successfully\n",
    "        if img is None:\n",
    "            print(f\"Warning: Could not read image {img_path}. Skipping this file.\")\n",
    "            continue\n",
    "        \n",
    "        img = cv2.resize(img, (64, 64))\n",
    "        img = img / 255.0\n",
    "        images.append(img)\n",
    "        labels.append(class_indices[class_name])"
   ]
  },
  {
   "cell_type": "code",
   "execution_count": 84,
   "id": "5af06b51",
   "metadata": {},
   "outputs": [],
   "source": [
    "labels = tf.keras.utils.to_categorical(labels, num_classes=len(classes))\n"
   ]
  },
  {
   "cell_type": "code",
   "execution_count": 85,
   "id": "84bd29dd",
   "metadata": {},
   "outputs": [],
   "source": [
    "train_images, test_images, train_labels, test_labels = train_test_split(images, labels, test_size=0.2, random_state=42)\n"
   ]
  },
  {
   "cell_type": "code",
   "execution_count": 86,
   "id": "30ef2a62",
   "metadata": {},
   "outputs": [],
   "source": [
    "model = Sequential()\n",
    "model.add(Conv2D(32, (3, 3), input_shape=(64, 64, 3), activation='relu'))\n",
    "model.add(MaxPooling2D(pool_size=(2, 2)))\n",
    "model.add(Flatten())\n",
    "model.add(Dense(units=128, activation='relu'))\n",
    "model.add(Dense(units=len(classes), activation='softmax'))"
   ]
  },
  {
   "cell_type": "code",
   "execution_count": 87,
   "id": "c1d30193",
   "metadata": {},
   "outputs": [],
   "source": [
    "model.compile(optimizer='adam', loss='categorical_crossentropy', metrics=['accuracy'])\n"
   ]
  },
  {
   "cell_type": "code",
   "execution_count": 88,
   "id": "12517f63",
   "metadata": {},
   "outputs": [
    {
     "name": "stdout",
     "output_type": "stream",
     "text": [
      "Epoch 1/25\n",
      "4/4 [==============================] - 1s 170ms/step - loss: 1.5958 - accuracy: 0.4144 - val_loss: 1.4657 - val_accuracy: 0.6071\n",
      "Epoch 2/25\n",
      "4/4 [==============================] - 0s 71ms/step - loss: 1.1488 - accuracy: 0.6216 - val_loss: 0.6357 - val_accuracy: 0.7500\n",
      "Epoch 3/25\n",
      "4/4 [==============================] - 0s 78ms/step - loss: 0.5766 - accuracy: 0.6757 - val_loss: 0.6439 - val_accuracy: 0.6429\n",
      "Epoch 4/25\n",
      "4/4 [==============================] - 0s 78ms/step - loss: 0.3594 - accuracy: 0.8739 - val_loss: 0.4896 - val_accuracy: 0.7143\n",
      "Epoch 5/25\n",
      "4/4 [==============================] - 0s 100ms/step - loss: 0.3254 - accuracy: 0.8919 - val_loss: 0.3575 - val_accuracy: 0.8929\n",
      "Epoch 6/25\n",
      "4/4 [==============================] - 0s 94ms/step - loss: 0.1827 - accuracy: 0.9550 - val_loss: 0.3343 - val_accuracy: 0.8214\n",
      "Epoch 7/25\n",
      "4/4 [==============================] - 0s 82ms/step - loss: 0.1355 - accuracy: 0.9820 - val_loss: 0.3176 - val_accuracy: 0.8571\n",
      "Epoch 8/25\n",
      "4/4 [==============================] - 0s 76ms/step - loss: 0.0887 - accuracy: 0.9910 - val_loss: 0.2533 - val_accuracy: 0.8571\n",
      "Epoch 9/25\n",
      "4/4 [==============================] - 0s 78ms/step - loss: 0.0631 - accuracy: 1.0000 - val_loss: 0.2543 - val_accuracy: 0.8571\n",
      "Epoch 10/25\n",
      "4/4 [==============================] - 0s 75ms/step - loss: 0.0330 - accuracy: 1.0000 - val_loss: 0.2849 - val_accuracy: 0.8929\n",
      "Epoch 11/25\n",
      "4/4 [==============================] - 0s 72ms/step - loss: 0.0272 - accuracy: 1.0000 - val_loss: 0.2816 - val_accuracy: 0.8571\n",
      "Epoch 12/25\n",
      "4/4 [==============================] - 0s 74ms/step - loss: 0.0146 - accuracy: 1.0000 - val_loss: 0.2753 - val_accuracy: 0.8571\n",
      "Epoch 13/25\n",
      "4/4 [==============================] - 0s 85ms/step - loss: 0.0095 - accuracy: 1.0000 - val_loss: 0.2750 - val_accuracy: 0.8571\n",
      "Epoch 14/25\n",
      "4/4 [==============================] - 0s 87ms/step - loss: 0.0064 - accuracy: 1.0000 - val_loss: 0.2810 - val_accuracy: 0.8571\n",
      "Epoch 15/25\n",
      "4/4 [==============================] - 0s 79ms/step - loss: 0.0048 - accuracy: 1.0000 - val_loss: 0.2796 - val_accuracy: 0.8571\n",
      "Epoch 16/25\n",
      "4/4 [==============================] - 0s 84ms/step - loss: 0.0035 - accuracy: 1.0000 - val_loss: 0.2754 - val_accuracy: 0.8571\n",
      "Epoch 17/25\n",
      "4/4 [==============================] - 0s 76ms/step - loss: 0.0027 - accuracy: 1.0000 - val_loss: 0.2812 - val_accuracy: 0.8929\n",
      "Epoch 18/25\n",
      "4/4 [==============================] - 0s 86ms/step - loss: 0.0022 - accuracy: 1.0000 - val_loss: 0.2840 - val_accuracy: 0.8929\n",
      "Epoch 19/25\n",
      "4/4 [==============================] - 0s 86ms/step - loss: 0.0018 - accuracy: 1.0000 - val_loss: 0.2878 - val_accuracy: 0.8571\n",
      "Epoch 20/25\n",
      "4/4 [==============================] - 0s 79ms/step - loss: 0.0015 - accuracy: 1.0000 - val_loss: 0.2948 - val_accuracy: 0.8571\n",
      "Epoch 21/25\n",
      "4/4 [==============================] - 0s 77ms/step - loss: 0.0014 - accuracy: 1.0000 - val_loss: 0.2977 - val_accuracy: 0.8571\n",
      "Epoch 22/25\n",
      "4/4 [==============================] - 0s 75ms/step - loss: 0.0012 - accuracy: 1.0000 - val_loss: 0.2969 - val_accuracy: 0.8571\n",
      "Epoch 23/25\n",
      "4/4 [==============================] - 0s 81ms/step - loss: 0.0010 - accuracy: 1.0000 - val_loss: 0.2978 - val_accuracy: 0.8929\n",
      "Epoch 24/25\n",
      "4/4 [==============================] - 0s 98ms/step - loss: 9.4388e-04 - accuracy: 1.0000 - val_loss: 0.3001 - val_accuracy: 0.8929\n",
      "Epoch 25/25\n",
      "4/4 [==============================] - 0s 90ms/step - loss: 8.7321e-04 - accuracy: 1.0000 - val_loss: 0.3020 - val_accuracy: 0.8929\n"
     ]
    },
    {
     "data": {
      "text/plain": [
       "<tensorflow.python.keras.callbacks.History at 0x13cb8ff1d00>"
      ]
     },
     "execution_count": 88,
     "metadata": {},
     "output_type": "execute_result"
    }
   ],
   "source": [
    "model.fit(np.array(train_images), np.array(train_labels), epochs=25, validation_data=(np.array(test_images), np.array(test_labels)))"
   ]
  },
  {
   "cell_type": "code",
   "execution_count": 91,
   "id": "97e5dcd3",
   "metadata": {},
   "outputs": [
    {
     "name": "stdout",
     "output_type": "stream",
     "text": [
      "Sizes for 1.jpg: [0.0, 0.0, 0.0, 0.0, 0.0, 19954.0]\n",
      "Densities for 1.jpg: [0, 0, 0, 0, 0, 0.0002505763255487622]\n",
      "Classifications for 1.jpg: ['Defective', 'Defective', 'Defective', 'Defective', 'Defective', 'Defective']\n",
      "Sizes for 2.jpg: [0.5, 0.0, 0.0, 0.0, 0.0, 0.0, 0.0, 83.5, 12847.5]\n",
      "Densities for 2.jpg: [10.0, 0, 0, 0, 0, 0, 0, 0.059880239520958084, 0.0003891807744697412]\n",
      "Classifications for 2.jpg: ['Good', 'Defective', 'Defective', 'Defective', 'Defective', 'Defective', 'Defective', 'Defective', 'Defective']\n",
      "Sizes for 3.jpg: [11282.5]\n",
      "Densities for 3.jpg: [0.00044316419233325947]\n",
      "Classifications for 3.jpg: ['Defective']\n",
      "Sizes for 4.jpg: [0.0, 0.0, 0.0, 0.0, 0.0, 0.0, 0.0, 0.0, 0.0, 0.0, 0.0, 0.0, 0.0, 0.0, 0.0, 12.5, 0.0, 4.0, 0.0, 0.0, 0.0, 0.0, 0.5, 0.0, 0.0, 0.5, 0.0, 8474.5]\n",
      "Densities for 4.jpg: [0, 0, 0, 0, 0, 0, 0, 0, 0, 0, 0, 0, 0, 0, 0, 0.4, 0, 1.25, 0, 0, 0, 0, 10.0, 0, 0, 10.0, 0, 0.0005900053100477904]\n",
      "Classifications for 4.jpg: ['Defective', 'Defective', 'Defective', 'Defective', 'Defective', 'Defective', 'Defective', 'Defective', 'Defective', 'Defective', 'Defective', 'Defective', 'Defective', 'Defective', 'Defective', 'Defective', 'Defective', 'Good', 'Defective', 'Defective', 'Defective', 'Defective', 'Good', 'Defective', 'Defective', 'Good', 'Defective', 'Defective']\n",
      "Sizes for 5.jpg: [311286.5]\n",
      "Densities for 5.jpg: [1.6062373408419575e-05]\n",
      "Classifications for 5.jpg: ['Defective']\n",
      "Sizes for 6.jpeg: [3.5, 0.0, 1.0, 45.0, 1.0, 1.0, 50.0, 0.0, 0.0, 0.0, 1.0, 0.0, 0.5, 1.5, 32.5, 0.5, 14.0, 0.0, 2.5, 68.5, 152.5, 0.0, 0.0, 2.0, 0.0, 0.0, 0.0, 0.0, 0.0, 12.5, 0.0, 0.0, 12.5, 0.5, 0.0, 0.0, 1.0, 0.0, 0.0, 4.0, 0.0, 3.0, 14.0, 6.5, 19.0, 1.0, 0.0, 0.0, 1563.0, 0.0, 0.0, 12.5, 44.5, 0.0, 0.0, 5.0, 0.0, 0.0, 0.0, 1.0, 0.0, 0.0, 0.0, 0.0, 0.0, 0.0, 0.5, 0.0, 0.0, 0.0, 0.0, 0.0, 0.5, 0.0, 4.0, 0.0, 0.0, 0.0, 0.5, 0.0, 0.0, 2.0, 0.0, 0.0, 3.0, 0.0, 0.0, 37.0, 0.0, 0.0, 2.5, 0.0, 0.0, 1.5, 8.0, 2.5, 23.5, 0.0, 0.0, 0.0, 0.0, 3.0, 3.0, 24.0, 0.0, 0.0, 0.0, 0.0, 0.0, 1.0, 0.5, 1.5, 0.0, 0.0, 0.0, 0.0, 0.5, 0.0, 0.0, 4.0, 0.0, 0.0, 0.5, 0.0, 0.0, 0.0, 0.0, 0.0, 0.0, 1.0, 0.0, 0.0, 1.0, 0.0, 0.0, 0.0, 2.0, 0.5, 1.0, 0.0, 43.0, 0.0, 0.0, 0.5, 0.0, 13.0, 0.0, 1.0, 0.0, 0.0, 0.0, 0.0, 0.0, 0.0, 0.0, 0.0, 0.0, 0.0, 0.0, 0.5, 0.0, 6.0, 0.0, 0.5, 1.0, 0.0, 0.0, 0.0, 5.0, 0.0, 0.0, 3.5, 10.5, 0.0, 0.0, 0.0, 18.5, 0.0, 8.0, 2.5, 19.0, 0.0, 1.0, 0.0, 7.0, 0.0, 0.0, 1.0, 7.5, 1.5, 0.0, 0.0, 0.0, 0.0, 0.0, 0.0, 0.0, 0.0, 0.0, 0.0, 5.0, 0.0, 0.0, 0.5, 0.5, 9.0, 8.0, 13.5, 1.5, 0.0, 1.0, 0.0, 0.0, 1.0, 0.0, 1.0, 0.5, 0.5, 0.0, 3.0, 10.0, 1.5, 0.0, 0.0, 0.0, 12.5, 4.0, 0.0, 3.0, 4.0, 0.5, 5.5, 1.5, 0.0, 0.0, 0.0, 0.0, 0.0, 15.5, 0.0, 2.0, 45.5, 1.5, 0.0, 0.0, 1.0, 367.0, 0.0, 2.0, 0.0, 0.5, 4.0, 0.5, 10.5, 0.0, 0.0, 10.5, 0.0, 0.0, 0.0, 0.0, 0.0, 0.5, 0.0, 0.0, 0.0, 0.0, 0.0, 0.0, 1.5, 0.0, 6.5, 0.0, 0.0, 0.0, 0.0, 0.0, 4.0, 0.0, 0.0, 1.0, 0.0, 0.0, 0.5, 14.5, 0.0, 851.5, 0.0, 0.0, 0.0, 535799.0, 8149.5]\n",
      "Densities for 6.jpeg: [1.4285714285714286, 0, 5.0, 0.1111111111111111, 5.0, 5.0, 0.1, 0, 0, 0, 5.0, 0, 10.0, 3.3333333333333335, 0.15384615384615385, 10.0, 0.35714285714285715, 0, 2.0, 0.072992700729927, 0.03278688524590164, 0, 0, 2.5, 0, 0, 0, 0, 0, 0.4, 0, 0, 0.4, 10.0, 0, 0, 5.0, 0, 0, 1.25, 0, 1.6666666666666667, 0.35714285714285715, 0.7692307692307693, 0.2631578947368421, 5.0, 0, 0, 0.003198976327575176, 0, 0, 0.4, 0.11235955056179775, 0, 0, 1.0, 0, 0, 0, 5.0, 0, 0, 0, 0, 0, 0, 10.0, 0, 0, 0, 0, 0, 10.0, 0, 1.25, 0, 0, 0, 10.0, 0, 0, 2.5, 0, 0, 1.6666666666666667, 0, 0, 0.13513513513513514, 0, 0, 2.0, 0, 0, 3.3333333333333335, 0.625, 2.0, 0.2127659574468085, 0, 0, 0, 0, 1.6666666666666667, 1.6666666666666667, 0.20833333333333334, 0, 0, 0, 0, 0, 5.0, 10.0, 3.3333333333333335, 0, 0, 0, 0, 10.0, 0, 0, 1.25, 0, 0, 10.0, 0, 0, 0, 0, 0, 0, 5.0, 0, 0, 5.0, 0, 0, 0, 2.5, 10.0, 5.0, 0, 0.11627906976744186, 0, 0, 10.0, 0, 0.38461538461538464, 0, 5.0, 0, 0, 0, 0, 0, 0, 0, 0, 0, 0, 0, 10.0, 0, 0.8333333333333334, 0, 10.0, 5.0, 0, 0, 0, 1.0, 0, 0, 1.4285714285714286, 0.47619047619047616, 0, 0, 0, 0.2702702702702703, 0, 0.625, 2.0, 0.2631578947368421, 0, 5.0, 0, 0.7142857142857143, 0, 0, 5.0, 0.6666666666666666, 3.3333333333333335, 0, 0, 0, 0, 0, 0, 0, 0, 0, 0, 1.0, 0, 0, 10.0, 10.0, 0.5555555555555556, 0.625, 0.37037037037037035, 3.3333333333333335, 0, 5.0, 0, 0, 5.0, 0, 5.0, 10.0, 10.0, 0, 1.6666666666666667, 0.5, 3.3333333333333335, 0, 0, 0, 0.4, 1.25, 0, 1.6666666666666667, 1.25, 10.0, 0.9090909090909091, 3.3333333333333335, 0, 0, 0, 0, 0, 0.3225806451612903, 0, 2.5, 0.10989010989010989, 3.3333333333333335, 0, 0, 5.0, 0.013623978201634877, 0, 2.5, 0, 10.0, 1.25, 10.0, 0.47619047619047616, 0, 0, 0.47619047619047616, 0, 0, 0, 0, 0, 10.0, 0, 0, 0, 0, 0, 0, 3.3333333333333335, 0, 0.7692307692307693, 0, 0, 0, 0, 0, 1.25, 0, 0, 5.0, 0, 0, 10.0, 0.3448275862068966, 0, 0.005871990604815032, 0, 0, 0, 9.331857655576064e-06, 0.0006135345726731702]\n",
      "Classifications for 6.jpeg: ['Good', 'Defective', 'Good', 'Defective', 'Good', 'Good', 'Defective', 'Defective', 'Defective', 'Defective', 'Good', 'Defective', 'Good', 'Good', 'Defective', 'Good', 'Defective', 'Defective', 'Good', 'Defective', 'Defective', 'Defective', 'Defective', 'Good', 'Defective', 'Defective', 'Defective', 'Defective', 'Defective', 'Defective', 'Defective', 'Defective', 'Defective', 'Good', 'Defective', 'Defective', 'Good', 'Defective', 'Defective', 'Good', 'Defective', 'Good', 'Defective', 'Good', 'Defective', 'Good', 'Defective', 'Defective', 'Defective', 'Defective', 'Defective', 'Defective', 'Defective', 'Defective', 'Defective', 'Good', 'Defective', 'Defective', 'Defective', 'Good', 'Defective', 'Defective', 'Defective', 'Defective', 'Defective', 'Defective', 'Good', 'Defective', 'Defective', 'Defective', 'Defective', 'Defective', 'Good', 'Defective', 'Good', 'Defective', 'Defective', 'Defective', 'Good', 'Defective', 'Defective', 'Good', 'Defective', 'Defective', 'Good', 'Defective', 'Defective', 'Defective', 'Defective', 'Defective', 'Good', 'Defective', 'Defective', 'Good', 'Good', 'Good', 'Defective', 'Defective', 'Defective', 'Defective', 'Defective', 'Good', 'Good', 'Defective', 'Defective', 'Defective', 'Defective', 'Defective', 'Defective', 'Good', 'Good', 'Good', 'Defective', 'Defective', 'Defective', 'Defective', 'Good', 'Defective', 'Defective', 'Good', 'Defective', 'Defective', 'Good', 'Defective', 'Defective', 'Defective', 'Defective', 'Defective', 'Defective', 'Good', 'Defective', 'Defective', 'Good', 'Defective', 'Defective', 'Defective', 'Good', 'Good', 'Good', 'Defective', 'Defective', 'Defective', 'Defective', 'Good', 'Defective', 'Defective', 'Defective', 'Good', 'Defective', 'Defective', 'Defective', 'Defective', 'Defective', 'Defective', 'Defective', 'Defective', 'Defective', 'Defective', 'Defective', 'Good', 'Defective', 'Good', 'Defective', 'Good', 'Good', 'Defective', 'Defective', 'Defective', 'Good', 'Defective', 'Defective', 'Good', 'Defective', 'Defective', 'Defective', 'Defective', 'Defective', 'Defective', 'Good', 'Good', 'Defective', 'Defective', 'Good', 'Defective', 'Good', 'Defective', 'Defective', 'Good', 'Good', 'Good', 'Defective', 'Defective', 'Defective', 'Defective', 'Defective', 'Defective', 'Defective', 'Defective', 'Defective', 'Defective', 'Good', 'Defective', 'Defective', 'Good', 'Good', 'Good', 'Good', 'Defective', 'Good', 'Defective', 'Good', 'Defective', 'Defective', 'Good', 'Defective', 'Good', 'Good', 'Good', 'Defective', 'Good', 'Good', 'Good', 'Defective', 'Defective', 'Defective', 'Defective', 'Good', 'Defective', 'Good', 'Good', 'Good', 'Good', 'Good', 'Defective', 'Defective', 'Defective', 'Defective', 'Defective', 'Defective', 'Defective', 'Good', 'Defective', 'Good', 'Defective', 'Defective', 'Good', 'Defective', 'Defective', 'Good', 'Defective', 'Good', 'Good', 'Good', 'Defective', 'Defective', 'Defective', 'Defective', 'Defective', 'Defective', 'Defective', 'Defective', 'Defective', 'Good', 'Defective', 'Defective', 'Defective', 'Defective', 'Defective', 'Defective', 'Good', 'Defective', 'Good', 'Defective', 'Defective', 'Defective', 'Defective', 'Defective', 'Good', 'Defective', 'Defective', 'Good', 'Defective', 'Defective', 'Good', 'Defective', 'Defective', 'Defective', 'Defective', 'Defective', 'Defective', 'Defective', 'Defective']\n"
     ]
    }
   ],
   "source": [
    "def measure_size_and_density(image_path, mass):\n",
    "    # Load the image\n",
    "    img = cv2.imread(image_path)\n",
    "    if img is None:\n",
    "        print(f\"Warning: Could not read image {image_path}.\")\n",
    "        return None, None\n",
    "    \n",
    "    # Convert to grayscale\n",
    "    gray = cv2.cvtColor(img, cv2.COLOR_BGR2GRAY)\n",
    "    \n",
    "    # Apply a threshold to binarize the image\n",
    "    _, thresh = cv2.threshold(gray, 150, 255, cv2.THRESH_BINARY_INV)\n",
    "    \n",
    "    # Find contours\n",
    "    contours, _ = cv2.findContours(thresh, cv2.RETR_EXTERNAL, cv2.CHAIN_APPROX_SIMPLE)\n",
    "    \n",
    "    # Measure sizes (area) of each contour\n",
    "    sizes = [cv2.contourArea(c) for c in contours]\n",
    "    \n",
    "    # Calculate density for each size\n",
    "    densities = [(mass / size) if size > 0 else 0 for size in sizes]\n",
    "    \n",
    "    return sizes, densities\n",
    "   # Example usage\n",
    "data_dir = \"size\"  # Update this path to your image folder\n",
    "mass = 5.0  # Example mass in grams for each cherry\n",
    "\n",
    "# Iterate through each image in the folder\n",
    "for filename in os.listdir(data_dir):\n",
    "    img_path = os.path.join(data_dir, filename)\n",
    "    sizes, densities = measure_size_and_density(img_path, mass)\n",
    "    \n",
    "    # Determine if the berries are defective based on density\n",
    "    threshold_density = 0.5  # Example threshold; adjust as needed\n",
    "    classifications = [\"Defective\" if density < threshold_density else \"Good\" for density in densities]\n",
    "    \n",
    "    print(f\"Sizes for {filename}: {sizes}\")\n",
    "    print(f\"Densities for {filename}: {densities}\")\n",
    "    print(f\"Classifications for {filename}: {classifications}\")\n"
   ]
  },
  {
   "cell_type": "code",
   "execution_count": 92,
   "id": "7cbb3dd1",
   "metadata": {},
   "outputs": [],
   "source": [
    "model.save('coffee_cherry_classifier.h5')"
   ]
  },
  {
   "cell_type": "code",
   "execution_count": null,
   "id": "66ca2be4",
   "metadata": {},
   "outputs": [],
   "source": []
  }
 ],
 "metadata": {
  "kernelspec": {
   "display_name": "Python 3",
   "language": "python",
   "name": "python3"
  },
  "language_info": {
   "codemirror_mode": {
    "name": "ipython",
    "version": 3
   },
   "file_extension": ".py",
   "mimetype": "text/x-python",
   "name": "python",
   "nbconvert_exporter": "python",
   "pygments_lexer": "ipython3",
   "version": "3.8.8"
  }
 },
 "nbformat": 4,
 "nbformat_minor": 5
}
